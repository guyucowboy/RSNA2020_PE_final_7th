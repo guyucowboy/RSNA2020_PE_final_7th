{
 "cells": [
  {
   "cell_type": "code",
   "execution_count": 1,
   "metadata": {},
   "outputs": [
    {
     "name": "stderr",
     "output_type": "stream",
     "text": [
      "/opt/conda/lib/python3.6/importlib/_bootstrap.py:219: RuntimeWarning: numpy.ufunc size changed, may indicate binary incompatibility. Expected 192 from C header, got 216 from PyObject\n",
      "  return f(*args, **kwds)\n",
      "/opt/conda/lib/python3.6/importlib/_bootstrap.py:219: RuntimeWarning: numpy.ufunc size changed, may indicate binary incompatibility. Expected 192 from C header, got 216 from PyObject\n",
      "  return f(*args, **kwds)\n",
      "/opt/conda/lib/python3.6/importlib/_bootstrap.py:219: RuntimeWarning: numpy.ufunc size changed, may indicate binary incompatibility. Expected 192 from C header, got 216 from PyObject\n",
      "  return f(*args, **kwds)\n",
      "/opt/conda/lib/python3.6/importlib/_bootstrap.py:219: RuntimeWarning: numpy.ufunc size changed, may indicate binary incompatibility. Expected 192 from C header, got 216 from PyObject\n",
      "  return f(*args, **kwds)\n",
      "/opt/conda/lib/python3.6/importlib/_bootstrap.py:219: RuntimeWarning: numpy.ufunc size changed, may indicate binary incompatibility. Expected 192 from C header, got 216 from PyObject\n",
      "  return f(*args, **kwds)\n",
      "/opt/conda/lib/python3.6/importlib/_bootstrap.py:219: RuntimeWarning: numpy.ufunc size changed, may indicate binary incompatibility. Expected 192 from C header, got 216 from PyObject\n",
      "  return f(*args, **kwds)\n",
      "/opt/conda/lib/python3.6/importlib/_bootstrap.py:219: RuntimeWarning: numpy.ufunc size changed, may indicate binary incompatibility. Expected 192 from C header, got 216 from PyObject\n",
      "  return f(*args, **kwds)\n",
      "/opt/conda/lib/python3.6/importlib/_bootstrap.py:219: RuntimeWarning: numpy.ufunc size changed, may indicate binary incompatibility. Expected 192 from C header, got 216 from PyObject\n",
      "  return f(*args, **kwds)\n"
     ]
    }
   ],
   "source": [
    "import warnings\n",
    "warnings.filterwarnings(action='once')\n",
    "import pandas as pd\n",
    "import numpy as np\n",
    "import matplotlib.pylab as plt\n",
    "import seaborn as sns\n",
    "import datetime\n",
    "from IPython.core.interactiveshell import InteractiveShell\n",
    "InteractiveShell.ast_node_interactivity = \"all\"\n",
    "import pickle\n",
    "%load_ext autoreload\n",
    "%autoreload 2\n",
    "%matplotlib inline\n",
    "from exp.misc import *\n",
    "from exp.ProcessData import *\n",
    "from exp.PytorchModels import *\n",
    "from exp.LearnerClass import *\n",
    "import torch\n",
    "import torch.nn as nn\n",
    "import torch.utils.data as D\n",
    "import torch.nn.functional as F\n",
    "import copy\n",
    "from torchvision import transforms\n",
    "import PIL.Image\n",
    "from sklearn.metrics import roc_auc_score\n",
    "import torchvision.transforms.functional as TF\n",
    "from types import MethodType\n",
    "import sandesh\n",
    "import pydicom"
   ]
  },
  {
   "cell_type": "code",
   "execution_count": 2,
   "metadata": {},
   "outputs": [],
   "source": [
    "params=json_to_parameters('config.json')\n",
    "num_folds=5\n",
    "device = device_by_name('Tesla')\n",
    "#device='cpu'\n",
    "torch.cuda.set_device(device)"
   ]
  },
  {
   "cell_type": "code",
   "execution_count": 3,
   "metadata": {},
   "outputs": [
    {
     "name": "stderr",
     "output_type": "stream",
     "text": [
      "/opt/conda/lib/python3.6/site-packages/IPython/core/interactiveshell.py:3063: DtypeWarning: Columns (23,49,50) have mixed types. Specify dtype option on import or set low_memory=False.\n",
      "  interactivity=interactivity, compiler=compiler, result=result)\n"
     ]
    }
   ],
   "source": [
    "df = pd.read_csv(params.path.data+'full_train.csv')"
   ]
  },
  {
   "cell_type": "code",
   "execution_count": 4,
   "metadata": {},
   "outputs": [],
   "source": [
    "transform=transforms.Compose([RandomResizedCropTransform(scale=(0.7, 1.3), ratio=(0.7, 1.3)),\n",
    "                              RotateTransform(25),\n",
    "                              RandomFlipTransform(0.5,0.5),\n",
    "                              RandomChangeMeanStdTransform(30,0.1),\n",
    "                              CutoutTransform(0.5,0.2),\n",
    "                              CutoutTransform(0.25,0.3),\n",
    "                              ResizeTransform(512,512)])\n",
    "\n",
    "transform_val=transforms.Compose([ResizeTransform(512,512)])\n"
   ]
  },
  {
   "cell_type": "code",
   "execution_count": null,
   "metadata": {},
   "outputs": [
    {
     "data": {
      "text/plain": [
       "<torch._C.Generator at 0x7f14187c3408>"
      ]
     },
     "execution_count": 5,
     "metadata": {},
     "output_type": "execute_result"
    },
    {
     "name": "stdout",
     "output_type": "stream",
     "text": [
      "tf_efficientnet_b5_ns_image_220_v1_s0.pth\n"
     ]
    },
    {
     "data": {
      "application/vnd.jupyter.widget-view+json": {
       "model_id": "71c1217f6e464085bec958998d41289d",
       "version_major": 2,
       "version_minor": 0
      },
      "text/plain": [
       "HBox(children=(FloatProgress(value=0.0, max=6.0), HTML(value='')))"
      ]
     },
     "metadata": {},
     "output_type": "display_data"
    },
    {
     "data": {
      "application/vnd.jupyter.widget-view+json": {
       "model_id": "42ce6e415ea148af97ef78ad4893fef0",
       "version_major": 2,
       "version_minor": 0
      },
      "text/plain": [
       "HBox(children=(FloatProgress(value=0.0, max=27979.0), HTML(value='')))"
      ]
     },
     "metadata": {},
     "output_type": "display_data"
    }
   ],
   "source": [
    "model_type='tf_efficientnet_b5_ns'\n",
    "name_tamplate='image_{}'\n",
    "image_reader=ImageReader(params.path.train)\n",
    "ds0=ImageDataset(image_reader,df,transform=transform_val)\n",
    "ds=ImageDataset(image_reader,df,transform=transform)\n",
    "model_version=1\n",
    "seed_add=1234\n",
    "for SEED in [220]:\n",
    "    for fold in [0]: #range(2,num_folds): \n",
    "        torch.manual_seed(SEED+fold+seed_add)\n",
    "        np.random.seed(SEED+fold+seed_add)\n",
    "        torch.backends.cudnn.deterministic = True\n",
    "        torch.backends.cudnn.benchmark = False\n",
    "        model = get_model(model_type,output_size=11, feature_size =256,amp=True,pool=False).to(device)\n",
    "        name=params.model_format.format(model_type,name_tamplate.format(SEED),model_version,fold)\n",
    "        print (name)\n",
    "        learner = Learner(model,None,loss_func=None,name=name,scheduler=None,device=device)\n",
    "        learner.load_model(params.path.models)\n",
    "#        learner.init_amp()\n",
    "        learner.model.last_linear=Noop()\n",
    "        def new_get_x(self,batch):\n",
    "            return batch[:1] \n",
    "        learner.get_x=MethodType(new_get_x, learner)\n",
    "#         featuress=[learner.predict(ds0,batch_size=64,num_workers=20,do_eval=True)]\n",
    "        featuress=[]\n",
    "        sandesh.send({'name':f'finished 1st {SEED} {fold}'})\n",
    "        for i in notebook.tqdm(range(6)):\n",
    "#                 learner.model=learner.model.train()\n",
    "            features=learner.predict(ds,batch_size=64,num_workers=20,do_eval=True)\n",
    "            featuress.append(features)\n",
    "            sandesh.send({'name':f'finished {i+1} {SEED} {fold}'})\n",
    "\n",
    "        features=np.stack(featuress,0)\n",
    "        with open(params.path.features+(name.split('.')[0]+'tta.pkl'),'wb') as f:\n",
    "            pickle.dump(features,f,protocol=4)\n",
    "        sandesh.send({'name':f'saved {features.shape} {SEED} {fold}'})\n"
   ]
  },
  {
   "cell_type": "code",
   "execution_count": null,
   "metadata": {},
   "outputs": [],
   "source": [
    "# features=np.stack(featuress,0)\n",
    "# with open(params.path.features+(name.split('.')[0]+'.pkl'),'wb') as f:\n",
    "#     pickle.dump(features,f,protocol=4)\n"
   ]
  },
  {
   "cell_type": "code",
   "execution_count": null,
   "metadata": {},
   "outputs": [],
   "source": [
    "features.shape"
   ]
  },
  {
   "cell_type": "code",
   "execution_count": null,
   "metadata": {},
   "outputs": [],
   "source": [
    "((-600,1500),(100,700),(40,400))\n",
    "learner.model.wso.conv.weight.detach()[:,0,0,0]\n",
    "learner.model.wso.conv.bias.detach()\n",
    "1/learner.model.wso.conv.weight.detach()[:,0,0,0]\n",
    "(0.5-learner.model.wso.conv.bias.detach())/learner.model.wso.conv.weight.detach()[:,0,0,0]"
   ]
  },
  {
   "cell_type": "code",
   "execution_count": null,
   "metadata": {},
   "outputs": [],
   "source": [
    "((-600,1500),(100,700),(40,400))\n",
    "learner.model.wso.conv.weight.detach()[:,0,0,0]\n",
    "learner.model.wso.conv.bias.detach()\n",
    "1/learner.model.wso.conv.weight.detach()[:,0,0,0]\n",
    "(0.5-learner.model.wso.conv.bias.detach())/learner.model.wso.conv.weight.detach()[:,0,0,0]"
   ]
  },
  {
   "cell_type": "code",
   "execution_count": null,
   "metadata": {},
   "outputs": [],
   "source": [
    "1/learner.model.wso.conv.weight"
   ]
  },
  {
   "cell_type": "code",
   "execution_count": null,
   "metadata": {},
   "outputs": [],
   "source": [
    "a=ds0.__getitem__(2555)\n",
    "b=learner.model.wso.conv(a[0][None])\n",
    "plt.figure(figsize=(12,12))\n",
    "_=plt.subplot(2,2,1)\n",
    "_=plt.imshow(b[0].transpose(0,-1).detach().numpy(),cmap='bone')\n",
    "_=plt.subplot(2,2,2)\n",
    "_=plt.imshow(b[0][0].transpose(0,-1).detach().numpy(),cmap='bone')\n",
    "_=plt.subplot(2,2,3)\n",
    "_=plt.imshow(b[0][1].transpose(0,-1).detach().numpy(),cmap='bone')\n",
    "_=plt.subplot(2,2,4)\n",
    "_=plt.imshow(b[0][2].transpose(0,-1).detach().numpy(),cmap='bone')"
   ]
  },
  {
   "cell_type": "code",
   "execution_count": null,
   "metadata": {},
   "outputs": [],
   "source": [
    "a=ds0.__getitem__(2555)\n",
    "b=learner.model.wso.conv(a[0][None])\n",
    "plt.figure(figsize=(12,12))\n",
    "_=plt.subplot(2,2,1)\n",
    "_=plt.imshow(b[0].transpose(0,-1).detach().numpy(),cmap='bone')\n",
    "_=plt.subplot(2,2,2)\n",
    "_=plt.imshow(b[0][0].transpose(0,-1).detach().numpy(),cmap='bone')\n",
    "_=plt.subplot(2,2,3)\n",
    "_=plt.imshow(b[0][1].transpose(0,-1).detach().numpy(),cmap='bone')\n",
    "_=plt.subplot(2,2,4)\n",
    "_=plt.imshow(b[0][2].transpose(0,-1).detach().numpy(),cmap='bone')"
   ]
  },
  {
   "cell_type": "code",
   "execution_count": null,
   "metadata": {},
   "outputs": [],
   "source": []
  }
 ],
 "metadata": {
  "kernelspec": {
   "display_name": "Python 3",
   "language": "python",
   "name": "python3"
  },
  "language_info": {
   "codemirror_mode": {
    "name": "ipython",
    "version": 3
   },
   "file_extension": ".py",
   "mimetype": "text/x-python",
   "name": "python",
   "nbconvert_exporter": "python",
   "pygments_lexer": "ipython3",
   "version": "3.6.6"
  }
 },
 "nbformat": 4,
 "nbformat_minor": 4
}
